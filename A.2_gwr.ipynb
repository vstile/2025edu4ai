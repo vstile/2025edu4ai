{
 "cells": [
  {
   "cell_type": "markdown",
   "id": "85f44ce2",
   "metadata": {},
   "source": [
    "# A.2. GWR Analysis of Student Well-being and Academic Performance\n",
    "\n",
    "This Python script conducts a GWR analysis to investigate the spatially varying relationships between\n",
    "various predictors and student academic performance:"
   ]
  },
  {
   "cell_type": "code",
   "execution_count": null,
   "id": "41e8b3ed",
   "metadata": {},
   "outputs": [],
   "source": [
    "import pandas as pd\n",
    "import numpy as np\n",
    "from mgwr.gwr import GWR\n",
    "from mgwr.sel_bw import Sel_BW\n",
    "from sklearn.preprocessing import StandardScaler\n",
    "from sklearn.impute import SimpleImputer\n",
    "import matplotlib.pyplot as plt\n",
    "\n",
    "# Load the dataset\n",
    "file_path = 'C:\\\\Users\\\\home_folder\\\\students_wellbeing_digital.xlsx'\n",
    "df = pd.read_excel(file_path)\n",
    "\n",
    "# Parse seating coordinates\n",
    "def parse_m1(m1_str):\n",
    "    if pd.isna(m1_str):\n",
    "        return None, None\n",
    "    matrix_size, position = m1_str.split('=')\n",
    "    cols, rows = map(int, matrix_size.split('x'))\n",
    "    col, row = map(int, position.split('.'))\n",
    "    return (col, row)\n",
    "\n",
    "df['M1_col'], df['M1_row'] = zip(*df['M1'].apply(parse_m1))\n",
    "df['M1_col'].fillna(99, inplace=True)\n",
    "df['M1_row'].fillna(99, inplace=True)\n",
    "\n",
    "# Prepare data\n",
    "y = df['2G'].values.reshape((-1, 1))\n",
    "X = df[['1P1','1P2','1P3','1P4','1P5','2P1','2P2','2P3','2P4','2P5']].values\n",
    "coords = df[['M1_col', 'M1_row']].values\n",
    "\n",
    "# Impute and scale predictors\n",
    "X = SimpleImputer(strategy='mean').fit_transform(X)\n",
    "X = StandardScaler().fit_transform(X)\n",
    "\n",
    "# Select bandwidth and fit GWR\n",
    "bw = Sel_BW(coords, y, X).search()\n",
    "gwr_model = GWR(coords, y, X, bw=bw)\n",
    "results = gwr_model.fit()\n",
    "params = results.params\n",
    "\n",
    "# Plot results\n",
    "for i, col in enumerate(['1P1','1P2','1P3','1P4','1P5','2P1','2P2','2P3','2P4','2P5']):\n",
    "    plt.figure(figsize=(10,6))\n",
    "    plt.scatter(coords[:,0], coords[:,1], c=params[:,i+1], cmap='coolwarm', edgecolor='k', s=80)\n",
    "    plt.colorbar(label='Coefficient')\n",
    "    plt.xlabel('Column')\n",
    "    plt.ylabel('Row')\n",
    "    plt.title(f'GWR Coefficients for {col}')\n",
    "    plt.grid(True)\n",
    "    plt.show()\n",
    "\n",
    "# Print GWR summary\n",
    "results.summary()"
   ]
  }
 ],
 "metadata": {
  "language_info": {
   "name": "python"
  }
 },
 "nbformat": 4,
 "nbformat_minor": 5
}
